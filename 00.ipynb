{
 "cells": [
  {
   "cell_type": "code",
   "execution_count": 1,
   "id": "7ad7a203-fdce-4509-9fc5-be3e0fd5b2c5",
   "metadata": {},
   "outputs": [],
   "source": [
    "import torch,torchvision\n",
    "import pandas as pd\n",
    "import numpy as np\n",
    "import matplotlib.pyplot as plt\n",
    "from torch.nn import *\n",
    "np.random.seed(42)"
   ]
  },
  {
   "cell_type": "code",
   "execution_count": 2,
   "id": "2afa995d-f891-448e-9bb6-6d8610f2a53e",
   "metadata": {},
   "outputs": [],
   "source": [
    "data = pd.read_csv('./train.csv')"
   ]
  },
  {
   "cell_type": "code",
   "execution_count": 3,
   "id": "0be457c9-788b-4949-9da3-1bce494b6c42",
   "metadata": {},
   "outputs": [
    {
     "data": {
      "text/html": [
       "<div>\n",
       "<style scoped>\n",
       "    .dataframe tbody tr th:only-of-type {\n",
       "        vertical-align: middle;\n",
       "    }\n",
       "\n",
       "    .dataframe tbody tr th {\n",
       "        vertical-align: top;\n",
       "    }\n",
       "\n",
       "    .dataframe thead th {\n",
       "        text-align: right;\n",
       "    }\n",
       "</style>\n",
       "<table border=\"1\" class=\"dataframe\">\n",
       "  <thead>\n",
       "    <tr style=\"text-align: right;\">\n",
       "      <th></th>\n",
       "      <th>Id</th>\n",
       "      <th>MSSubClass</th>\n",
       "      <th>MSZoning</th>\n",
       "      <th>LotFrontage</th>\n",
       "      <th>LotArea</th>\n",
       "      <th>Street</th>\n",
       "      <th>Alley</th>\n",
       "      <th>LotShape</th>\n",
       "      <th>LandContour</th>\n",
       "      <th>Utilities</th>\n",
       "      <th>...</th>\n",
       "      <th>PoolArea</th>\n",
       "      <th>PoolQC</th>\n",
       "      <th>Fence</th>\n",
       "      <th>MiscFeature</th>\n",
       "      <th>MiscVal</th>\n",
       "      <th>MoSold</th>\n",
       "      <th>YrSold</th>\n",
       "      <th>SaleType</th>\n",
       "      <th>SaleCondition</th>\n",
       "      <th>SalePrice</th>\n",
       "    </tr>\n",
       "  </thead>\n",
       "  <tbody>\n",
       "    <tr>\n",
       "      <th>0</th>\n",
       "      <td>1</td>\n",
       "      <td>60</td>\n",
       "      <td>RL</td>\n",
       "      <td>65.0</td>\n",
       "      <td>8450</td>\n",
       "      <td>Pave</td>\n",
       "      <td>NaN</td>\n",
       "      <td>Reg</td>\n",
       "      <td>Lvl</td>\n",
       "      <td>AllPub</td>\n",
       "      <td>...</td>\n",
       "      <td>0</td>\n",
       "      <td>NaN</td>\n",
       "      <td>NaN</td>\n",
       "      <td>NaN</td>\n",
       "      <td>0</td>\n",
       "      <td>2</td>\n",
       "      <td>2008</td>\n",
       "      <td>WD</td>\n",
       "      <td>Normal</td>\n",
       "      <td>208500</td>\n",
       "    </tr>\n",
       "    <tr>\n",
       "      <th>1</th>\n",
       "      <td>2</td>\n",
       "      <td>20</td>\n",
       "      <td>RL</td>\n",
       "      <td>80.0</td>\n",
       "      <td>9600</td>\n",
       "      <td>Pave</td>\n",
       "      <td>NaN</td>\n",
       "      <td>Reg</td>\n",
       "      <td>Lvl</td>\n",
       "      <td>AllPub</td>\n",
       "      <td>...</td>\n",
       "      <td>0</td>\n",
       "      <td>NaN</td>\n",
       "      <td>NaN</td>\n",
       "      <td>NaN</td>\n",
       "      <td>0</td>\n",
       "      <td>5</td>\n",
       "      <td>2007</td>\n",
       "      <td>WD</td>\n",
       "      <td>Normal</td>\n",
       "      <td>181500</td>\n",
       "    </tr>\n",
       "    <tr>\n",
       "      <th>2</th>\n",
       "      <td>3</td>\n",
       "      <td>60</td>\n",
       "      <td>RL</td>\n",
       "      <td>68.0</td>\n",
       "      <td>11250</td>\n",
       "      <td>Pave</td>\n",
       "      <td>NaN</td>\n",
       "      <td>IR1</td>\n",
       "      <td>Lvl</td>\n",
       "      <td>AllPub</td>\n",
       "      <td>...</td>\n",
       "      <td>0</td>\n",
       "      <td>NaN</td>\n",
       "      <td>NaN</td>\n",
       "      <td>NaN</td>\n",
       "      <td>0</td>\n",
       "      <td>9</td>\n",
       "      <td>2008</td>\n",
       "      <td>WD</td>\n",
       "      <td>Normal</td>\n",
       "      <td>223500</td>\n",
       "    </tr>\n",
       "    <tr>\n",
       "      <th>3</th>\n",
       "      <td>4</td>\n",
       "      <td>70</td>\n",
       "      <td>RL</td>\n",
       "      <td>60.0</td>\n",
       "      <td>9550</td>\n",
       "      <td>Pave</td>\n",
       "      <td>NaN</td>\n",
       "      <td>IR1</td>\n",
       "      <td>Lvl</td>\n",
       "      <td>AllPub</td>\n",
       "      <td>...</td>\n",
       "      <td>0</td>\n",
       "      <td>NaN</td>\n",
       "      <td>NaN</td>\n",
       "      <td>NaN</td>\n",
       "      <td>0</td>\n",
       "      <td>2</td>\n",
       "      <td>2006</td>\n",
       "      <td>WD</td>\n",
       "      <td>Abnorml</td>\n",
       "      <td>140000</td>\n",
       "    </tr>\n",
       "    <tr>\n",
       "      <th>4</th>\n",
       "      <td>5</td>\n",
       "      <td>60</td>\n",
       "      <td>RL</td>\n",
       "      <td>84.0</td>\n",
       "      <td>14260</td>\n",
       "      <td>Pave</td>\n",
       "      <td>NaN</td>\n",
       "      <td>IR1</td>\n",
       "      <td>Lvl</td>\n",
       "      <td>AllPub</td>\n",
       "      <td>...</td>\n",
       "      <td>0</td>\n",
       "      <td>NaN</td>\n",
       "      <td>NaN</td>\n",
       "      <td>NaN</td>\n",
       "      <td>0</td>\n",
       "      <td>12</td>\n",
       "      <td>2008</td>\n",
       "      <td>WD</td>\n",
       "      <td>Normal</td>\n",
       "      <td>250000</td>\n",
       "    </tr>\n",
       "  </tbody>\n",
       "</table>\n",
       "<p>5 rows × 81 columns</p>\n",
       "</div>"
      ],
      "text/plain": [
       "   Id  MSSubClass MSZoning  LotFrontage  LotArea Street Alley LotShape  \\\n",
       "0   1          60       RL         65.0     8450   Pave   NaN      Reg   \n",
       "1   2          20       RL         80.0     9600   Pave   NaN      Reg   \n",
       "2   3          60       RL         68.0    11250   Pave   NaN      IR1   \n",
       "3   4          70       RL         60.0     9550   Pave   NaN      IR1   \n",
       "4   5          60       RL         84.0    14260   Pave   NaN      IR1   \n",
       "\n",
       "  LandContour Utilities  ... PoolArea PoolQC Fence MiscFeature MiscVal MoSold  \\\n",
       "0         Lvl    AllPub  ...        0    NaN   NaN         NaN       0      2   \n",
       "1         Lvl    AllPub  ...        0    NaN   NaN         NaN       0      5   \n",
       "2         Lvl    AllPub  ...        0    NaN   NaN         NaN       0      9   \n",
       "3         Lvl    AllPub  ...        0    NaN   NaN         NaN       0      2   \n",
       "4         Lvl    AllPub  ...        0    NaN   NaN         NaN       0     12   \n",
       "\n",
       "  YrSold  SaleType  SaleCondition  SalePrice  \n",
       "0   2008        WD         Normal     208500  \n",
       "1   2007        WD         Normal     181500  \n",
       "2   2008        WD         Normal     223500  \n",
       "3   2006        WD        Abnorml     140000  \n",
       "4   2008        WD         Normal     250000  \n",
       "\n",
       "[5 rows x 81 columns]"
      ]
     },
     "execution_count": 3,
     "metadata": {},
     "output_type": "execute_result"
    }
   ],
   "source": [
    "data.head()"
   ]
  },
  {
   "cell_type": "code",
   "execution_count": 4,
   "id": "85b208b0-68b8-475d-b2f7-81bfb7f99868",
   "metadata": {},
   "outputs": [],
   "source": [
    "import random"
   ]
  },
  {
   "cell_type": "code",
   "execution_count": 5,
   "id": "d19fb582-ad09-4a51-b2bd-666a1ce15490",
   "metadata": {},
   "outputs": [
    {
     "name": "stdout",
     "output_type": "stream",
     "text": [
      "(259, 'LotFrontage', dtype('float64'))\n",
      "(1369, 'Alley', dtype('O'))\n",
      "(8, 'MasVnrType', dtype('O'))\n",
      "(8, 'MasVnrArea', dtype('float64'))\n",
      "(37, 'BsmtQual', dtype('O'))\n",
      "(37, 'BsmtCond', dtype('O'))\n",
      "(38, 'BsmtExposure', dtype('O'))\n",
      "(37, 'BsmtFinType1', dtype('O'))\n",
      "(38, 'BsmtFinType2', dtype('O'))\n",
      "(1, 'Electrical', dtype('O'))\n",
      "(690, 'FireplaceQu', dtype('O'))\n",
      "(81, 'GarageType', dtype('O'))\n",
      "(81, 'GarageYrBlt', dtype('float64'))\n",
      "(81, 'GarageFinish', dtype('O'))\n",
      "(81, 'GarageQual', dtype('O'))\n",
      "(81, 'GarageCond', dtype('O'))\n",
      "(1453, 'PoolQC', dtype('O'))\n",
      "(1179, 'Fence', dtype('O'))\n",
      "(1406, 'MiscFeature', dtype('O'))\n"
     ]
    }
   ],
   "source": [
    "object_cols = []\n",
    "int_cols = []\n",
    "for nan in zip(data.isna().sum(),data.columns,data.dtypes):\n",
    "    if nan[0] > 0:\n",
    "        print(nan)\n",
    "        if nan[2] == 'float64':\n",
    "            data[nan[1]].fillna(data[nan[1]].median(),inplace=True)\n",
    "        else:\n",
    "            data[nan[1]].fillna(random.choice(data[nan[1]].dropna().tolist()),inplace=True)\n",
    "    if nan[2] == 'float64' or nan[2] == 'int64':\n",
    "        int_cols.append(nan[1])\n",
    "    else:\n",
    "        object_cols.append(nan[1])"
   ]
  },
  {
   "cell_type": "code",
   "execution_count": 6,
   "id": "9fd5d415-2600-4bce-ba60-6761bc6042c3",
   "metadata": {},
   "outputs": [],
   "source": [
    "from sklearn.compose import make_column_transformer"
   ]
  },
  {
   "cell_type": "code",
   "execution_count": 7,
   "id": "1010eb25-3d26-4319-8961-015b038441b5",
   "metadata": {},
   "outputs": [],
   "source": [
    "from sklearn.model_selection import *\n",
    "from sklearn.metrics import *"
   ]
  },
  {
   "cell_type": "code",
   "execution_count": 8,
   "id": "d5c4acb5-fe74-46f0-96bb-9f76e9fac99f",
   "metadata": {},
   "outputs": [],
   "source": [
    "X = data.drop('SalePrice',axis=1)\n",
    "y = data['SalePrice']\n",
    "X_train,X_test,y_train,y_test = train_test_split(X,y,test_size=0.125)"
   ]
  },
  {
   "cell_type": "code",
   "execution_count": 9,
   "id": "c7d6fe12-619b-4957-9234-1dcd4f09db5c",
   "metadata": {},
   "outputs": [],
   "source": [
    "from sklearn.preprocessing import *\n",
    "mct = make_column_transformer(\n",
    "    (OneHotEncoder(handle_unknown='ignore'),object_cols),\n",
    "    remainder='passthrough'\n",
    ")\n",
    "mct.fit(X_train)\n",
    "X_train = torch.from_numpy(np.array(mct.transform(X_train).toarray()))\n",
    "X_test = torch.from_numpy(np.array(mct.transform(X_test).toarray()))"
   ]
  },
  {
   "cell_type": "code",
   "execution_count": 10,
   "id": "ac449c4d-53fe-4dce-bbee-a7398c15f028",
   "metadata": {},
   "outputs": [],
   "source": [
    "y_train = torch.from_numpy(np.array(y_train))\n",
    "y_test = torch.from_numpy(np.array(y_test))"
   ]
  },
  {
   "cell_type": "code",
   "execution_count": 11,
   "id": "f798f96d-7844-4854-a136-ab9e3e141101",
   "metadata": {},
   "outputs": [
    {
     "data": {
      "text/plain": [
       "torch.Size([1277, 288])"
      ]
     },
     "execution_count": 11,
     "metadata": {},
     "output_type": "execute_result"
    }
   ],
   "source": [
    "X_train.shape"
   ]
  },
  {
   "cell_type": "code",
   "execution_count": 12,
   "id": "ba9078db-6192-4106-a232-3ab5a42550df",
   "metadata": {},
   "outputs": [],
   "source": [
    "class BaseLine_Model(Module):\n",
    "    def __init__(self,starter=2048,activation=ReLU(),iter_of_linear6=1):\n",
    "        super().__init__()\n",
    "        self.iter_of_linear6 = iter_of_linear6\n",
    "        self.activation = activation\n",
    "        self.linear1 = Linear(288,starter)\n",
    "        self.linear1batchnorm = BatchNorm1d(starter)\n",
    "        self.linear2 = Linear(starter,starter*2)\n",
    "        self.linear2batchnorm = BatchNorm1d(starter*2)\n",
    "        self.linear3 = Linear(starter*2,starter*2*2)\n",
    "        self.linear3batchnorm = BatchNorm1d(starter*2*2)\n",
    "        self.linear4 = Linear(starter*2*2,starter*2*2*2)\n",
    "        self.linear4batchnorm = BatchNorm1d(starter*2*2*2)\n",
    "        self.linear5 = Linear(starter*2*2*2,starter*2*2)\n",
    "        self.linear5batchnorm = BatchNorm1d(starter*2*2)\n",
    "        self.linear6 = Linear(starter*2*2,starter*2*2)\n",
    "        self.linear6batchnorm = BatchNorm1d(starter*2*2)\n",
    "        self.output = Linear(starter*2*2,1)\n",
    "    \n",
    "    def forward(self,X):\n",
    "        preds = self.activation(self.linear1batchnorm(self.linear1(X)))\n",
    "        preds = self.activation(self.linear2batchnorm(self.linear2(preds)))\n",
    "        preds = self.activation(self.linear3batchnorm(self.linear3(preds)))\n",
    "        preds = self.activation(self.linear4batchnorm(self.linear4(preds)))\n",
    "        preds = self.activation(self.linear5batchnorm(self.linear5(preds)))\n",
    "        for _ in range(self.iter_of_linear6):\n",
    "            preds = self.activation(self.linear6batchnorm(self.linear6(preds)))\n",
    "        preds = self.output(preds)\n",
    "        return preds"
   ]
  },
  {
   "cell_type": "code",
   "execution_count": 13,
   "id": "d51dc1e2-e008-49c0-bbfc-d5fe4d97502e",
   "metadata": {},
   "outputs": [],
   "source": [
    "device = 'cuda'\n",
    "PROJECT_NAME = 'House-Prices-Advanced-Regression-Techniques-V4'"
   ]
  },
  {
   "cell_type": "code",
   "execution_count": 14,
   "id": "b79c811d-9ae8-4eec-8b95-b02b2f98549c",
   "metadata": {},
   "outputs": [],
   "source": [
    "model = BaseLine_Model().to(device)\n",
    "criterion = MSELoss()\n",
    "optimizer = torch.optim.Adam(model.parameters(),lr=0.001)"
   ]
  },
  {
   "cell_type": "code",
   "execution_count": 15,
   "id": "cfe41d37-a722-40c7-b2d6-8582105257fb",
   "metadata": {},
   "outputs": [],
   "source": [
    "batch_size = 32"
   ]
  },
  {
   "cell_type": "code",
   "execution_count": 16,
   "id": "e231a0e0-8d9c-4faf-8cc5-7b30f344537e",
   "metadata": {},
   "outputs": [],
   "source": [
    "epochs = 100"
   ]
  },
  {
   "cell_type": "code",
   "execution_count": 17,
   "id": "e7d81b5c-e85c-498b-bac0-03db53a64a79",
   "metadata": {},
   "outputs": [],
   "source": [
    "from tqdm import tqdm"
   ]
  },
  {
   "cell_type": "code",
   "execution_count": 18,
   "id": "05d2a0ac-1ea8-4044-88de-74d7c24b2b95",
   "metadata": {},
   "outputs": [],
   "source": [
    "def get_loss(model,X,y,criterion):\n",
    "    model.to('cpu')\n",
    "    preds = model(X.float())\n",
    "    loss = criterion(preds,y)\n",
    "    return loss.item()\n",
    "def make_submission(model,name):\n",
    "    data = pd.read_csv('./test.csv')\n",
    "    ids = data['Id']\n",
    "    for nan in zip(data.isna().sum(),data.columns,data.dtypes):\n",
    "        if nan[0] > 0:\n",
    "            if nan[2] == 'float64' or nan[2] == 'int64':\n",
    "                data[nan[1]].fillna(data[nan[1]].median(),inplace=True)\n",
    "            else:\n",
    "                data[nan[1]].fillna(random.choice(data[nan[1]].dropna().tolist()),inplace=True)\n",
    "    data.dropna(inplace=True)\n",
    "    data = torch.from_numpy(np.array(mct.transform(data).toarray()))\n",
    "    data = data.float().to(device).view(-1,288)\n",
    "    model.to(device)\n",
    "    model.train()\n",
    "    preds = model(data)\n",
    "    preds = torch.squeeze(preds.to('cpu')).detach().numpy()\n",
    "    df = pd.DataFrame({'Id':ids,'SalePrice':preds})\n",
    "    df.to_csv(f'./submissions/submisssion-{name}.csv',index=False)\n",
    "    return df"
   ]
  },
  {
   "cell_type": "code",
   "execution_count": 19,
   "id": "b4354af7-379a-4dc7-99a2-6e24da5ac282",
   "metadata": {},
   "outputs": [],
   "source": [
    "import wandb"
   ]
  },
  {
   "cell_type": "code",
   "execution_count": 20,
   "id": "79089a2d-37c1-4ad4-9f36-2e8a4e57b56a",
   "metadata": {},
   "outputs": [
    {
     "data": {
      "text/plain": [
       "torch.Size([1277, 288])"
      ]
     },
     "execution_count": 20,
     "metadata": {},
     "output_type": "execute_result"
    }
   ],
   "source": [
    "X_train.shape"
   ]
  },
  {
   "cell_type": "code",
   "execution_count": 21,
   "id": "33aac395-fb7d-4c05-adf3-ffdd4ec76b3f",
   "metadata": {},
   "outputs": [],
   "source": [
    "model = BaseLine_Model().to(device)\n",
    "criterion = MSELoss()\n",
    "optimizer = torch.optim.Adam(model.parameters(),lr=0.001)\n",
    "batch_size = 32"
   ]
  },
  {
   "cell_type": "code",
   "execution_count": 22,
   "id": "24ef1cdc-4057-432f-b9ab-ffc38b096da5",
   "metadata": {},
   "outputs": [],
   "source": [
    "from torch.optim import *"
   ]
  },
  {
   "cell_type": "code",
   "execution_count": 27,
   "id": "08d63381-3740-4368-a4fe-b5722d9c568e",
   "metadata": {},
   "outputs": [],
   "source": [
    "# \n",
    "# starters = [128,256,512,1024,2048,2048*2,2048*2*2]\n",
    "#\n",
    "# iter_of_linear6s = [1,2,5,7,10,12,25,50,75,100]\n",
    "#\n",
    "# activations = [ELU,LeakyReLU,PReLU,ReLU,ReLU6,RReLU,SELU,CELU,GELU,Tanh,SiLU]\n",
    "#\n",
    "# batch_sizes = [2,3,4,5]\n",
    "#\n",
    "# optimizers = [Adam,AdamW,Adamax,Adadelta,Adagrad,ASGD,LBFGS,RMSprop,Rprop,SGD]\n",
    "#\n",
    "# lrs = [0.1,0.01,0.001,0.0001,0.00001]\n",
    "# \n",
    "criterions = [MSELoss(),L1Loss()]"
   ]
  },
  {
   "cell_type": "code",
   "execution_count": null,
   "id": "be16f2ad-9666-426e-8aa8-871ff6912f39",
   "metadata": {},
   "outputs": [
    {
     "data": {
      "text/html": [
       "Finishing last run (ID:1tm1ymy4) before initializing another..."
      ],
      "text/plain": [
       "<IPython.core.display.HTML object>"
      ]
     },
     "metadata": {},
     "output_type": "display_data"
    },
    {
     "data": {
      "text/html": [
       "<br/>Waiting for W&B process to finish, PID 387855<br/>Program ended successfully."
      ],
      "text/plain": [
       "<IPython.core.display.HTML object>"
      ]
     },
     "metadata": {},
     "output_type": "display_data"
    },
    {
     "data": {
      "application/vnd.jupyter.widget-view+json": {
       "model_id": "f85bc11f2b7749149f6091452d9d4117",
       "version_major": 2,
       "version_minor": 0
      },
      "text/plain": [
       "VBox(children=(Label(value=' 0.15MB of 0.15MB uploaded (0.00MB deduped)\\r'), FloatProgress(value=1.0, max=1.0)…"
      ]
     },
     "metadata": {},
     "output_type": "display_data"
    },
    {
     "name": "stderr",
     "output_type": "stream",
     "text": [
      "\u001b[34m\u001b[1mwandb\u001b[0m: \u001b[32m\u001b[41mERROR\u001b[0m Control-C detected -- Run data was not synced\n"
     ]
    },
    {
     "data": {
      "text/html": [
       "...Successfully finished last run (ID:1tm1ymy4). Initializing new run:<br/><br/>"
      ],
      "text/plain": [
       "<IPython.core.display.HTML object>"
      ]
     },
     "metadata": {},
     "output_type": "display_data"
    },
    {
     "name": "stderr",
     "output_type": "stream",
     "text": [
      "\u001b[34m\u001b[1mwandb\u001b[0m: wandb version 0.12.0 is available!  To upgrade, please run:\n",
      "\u001b[34m\u001b[1mwandb\u001b[0m:  $ pip install wandb --upgrade\n"
     ]
    },
    {
     "data": {
      "text/html": [
       "\n",
       "                Tracking run with wandb version 0.10.33<br/>\n",
       "                Syncing run <strong style=\"color:#cdcd00\">0.1-lr</strong> to <a href=\"https://wandb.ai\" target=\"_blank\">Weights & Biases</a> <a href=\"https://docs.wandb.com/integrations/jupyter.html\" target=\"_blank\">(Documentation)</a>.<br/>\n",
       "                Project page: <a href=\"https://wandb.ai/ranuga-d/House-Prices-Advanced-Regression-Techniques-V4\" target=\"_blank\">https://wandb.ai/ranuga-d/House-Prices-Advanced-Regression-Techniques-V4</a><br/>\n",
       "                Run page: <a href=\"https://wandb.ai/ranuga-d/House-Prices-Advanced-Regression-Techniques-V4/runs/39vr2dqj\" target=\"_blank\">https://wandb.ai/ranuga-d/House-Prices-Advanced-Regression-Techniques-V4/runs/39vr2dqj</a><br/>\n",
       "                Run data is saved locally in <code>/home/indika/Programming/Projects/Python/Artifical-Intelligence/PyTorch/Regression/House-Prices-Advanced-Regression-Techniques-V4/wandb/run-20210811_155611-39vr2dqj</code><br/><br/>\n",
       "            "
      ],
      "text/plain": [
       "<IPython.core.display.HTML object>"
      ]
     },
     "metadata": {},
     "output_type": "display_data"
    },
    {
     "name": "stderr",
     "output_type": "stream",
     "text": [
      "  0%|          | 0/100 [00:00<?, ?it/s]/home/indika/anaconda3/lib/python3.7/site-packages/torch/nn/modules/loss.py:446: UserWarning: Using a target size (torch.Size([13])) that is different to the input size (torch.Size([13, 1])). This will likely lead to incorrect results due to broadcasting. Please ensure they have the same size.\n",
      "  return F.mse_loss(input, target, reduction=self.reduction)\n",
      "/home/indika/anaconda3/lib/python3.7/site-packages/torch/nn/modules/loss.py:446: UserWarning: Using a target size (torch.Size([183])) that is different to the input size (torch.Size([183, 1])). This will likely lead to incorrect results due to broadcasting. Please ensure they have the same size.\n",
      "  return F.mse_loss(input, target, reduction=self.reduction)\n",
      " 17%|█▋        | 17/100 [01:14<06:05,  4.41s/it]"
     ]
    }
   ],
   "source": [
    "for criterion in criterions:\n",
    "    torch.cuda.empty_cache()\n",
    "    model = BaseLine_Model(starter=1024,iter_of_linear6=1,activation=PReLU()).to(device)\n",
    "    criterion = criterion\n",
    "    optimizer = Adam(model.parameters(),lr=lr)\n",
    "    batch_size = 16\n",
    "    name = f'{criterion}-criterion'\n",
    "    wandb.init(project=PROJECT_NAME,name=name)\n",
    "    for _ in tqdm(range(epochs)):\n",
    "        torch.cuda.empty_cache()\n",
    "        for idx in range(0,len(X_train),batch_size):\n",
    "            torch.cuda.empty_cache()\n",
    "            X_batch = X_train[idx:idx+batch_size].float().view(-1,288).to(device)\n",
    "            y_batch = y_train[idx:idx+batch_size].float().to(device)\n",
    "            model.to(device)\n",
    "            preds = model(X_batch)\n",
    "            loss = criterion(preds,y_batch)\n",
    "            optimizer.zero_grad()\n",
    "            loss.backward()\n",
    "            optimizer.step()\n",
    "        wandb.log({'Loss':loss.item()})\n",
    "        wandb.log({'Val Loss':get_loss(model,X_test,y_test,criterion)})\n",
    "    wandb.finish()\n",
    "    make_submission(model,name)"
   ]
  },
  {
   "cell_type": "code",
   "execution_count": null,
   "id": "d55b314d-7a91-40a8-a6e5-63ec99fc769e",
   "metadata": {},
   "outputs": [],
   "source": []
  },
  {
   "cell_type": "code",
   "execution_count": null,
   "id": "b901fdad-587c-417e-83dd-e9298a1216b7",
   "metadata": {},
   "outputs": [],
   "source": []
  }
 ],
 "metadata": {
  "kernelspec": {
   "display_name": "Python 3.7.3 64-bit ('base': conda)",
   "language": "python",
   "name": "python373jvsc74a57bd0210f9608a45c0278a93c9e0b10db32a427986ab48cfc0d20c139811eb78c4bbc"
  },
  "language_info": {
   "codemirror_mode": {
    "name": "ipython",
    "version": 3
   },
   "file_extension": ".py",
   "mimetype": "text/x-python",
   "name": "python",
   "nbconvert_exporter": "python",
   "pygments_lexer": "ipython3",
   "version": "3.7.7"
  }
 },
 "nbformat": 4,
 "nbformat_minor": 5
}
